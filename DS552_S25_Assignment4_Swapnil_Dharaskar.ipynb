{
  "cells": [
    {
      "cell_type": "markdown",
      "metadata": {
        "id": "view-in-github",
        "colab_type": "text"
      },
      "source": [
        "<a href=\"https://colab.research.google.com/github/sdharaskar/DS552/blob/main/DS552_S25_Assignment4_Swapnil_Dharaskar.ipynb\" target=\"_parent\"><img src=\"https://colab.research.google.com/assets/colab-badge.svg\" alt=\"Open In Colab\"/></a>"
      ]
    },
    {
      "cell_type": "markdown",
      "source": [
        "# **1. Theory Qestions**\n"
      ],
      "metadata": {
        "id": "Xabrn0GNwlR-"
      }
    },
    {
      "cell_type": "markdown",
      "source": [
        "**Q1:** Explain the minimax loss function in GANs and how it ensures competitive training between the generator and discriminator.  \n",
        "**A1:**  \n",
        " The minimax loss function in GANs formalizes the adversarial game between the generator and the discriminator.\n",
        " $$\n",
        "\\min_G \\max_D V(D, G) = \\mathbb{E}_{x \\sim p_{\\text{data}}(x)}\\left[\\log D(x)\\right] + \\mathbb{E}_{z \\sim p_z(z)}\\left[\\log\\left(1 - D\\left(G(z)\\right)\\right)\\right]\n",
        "$$\n",
        "\n",
        "The minimax loss function in GANs sets up an adversarial game where:\n",
        "*   The discriminator maximizes its ability to correctly classify real and fake images.\n",
        "*   The generator minimizes the loss by generating images that fool the discriminator.\n",
        "\n",
        "This back-and-forth creates a competitive environment where both networks continuously improve, ideally converging to a point where the generated images are indistinguishable from real ones.\n",
        "\n",
        "\n"
      ],
      "metadata": {
        "id": "Kh7v5vYn7xDr"
      }
    },
    {
      "cell_type": "markdown",
      "source": [
        "**Q2:** What is mode collapse, Why can mode collapse occur during GAN training? and how can it be mitigated?  \n",
        "**A2:**  Mode collapse occurs when a GAN’s generator produces a narrow range of outputs, failing to capture the diversity of the true data distribution. This issue can arise from the adversarial dynamics, instability in training, imbalances between the generator and discriminator, or issues with the loss function. Mitigation strategies include architectural changes like minibatch discrimination and feature matching, using alternative loss functions such as those in WGAN or LSGAN, regularization techniques, and even employing conditional GANs. These approaches help ensure that the generator learns to produce a variety of outputs, leading to more robust and stable GAN training.\n"
      ],
      "metadata": {
        "id": "bYgL9ddA-jAi"
      }
    },
    {
      "cell_type": "markdown",
      "source": [
        "**Q3:** Explain the role of the discriminator in adversarial training?  \n",
        "**A3:**  \n",
        " In adversarial training—particularly in Generative Adversarial Networks (GANs)—the discriminator plays a central role as the “critic” or binary classifier that distinguishes between real data (from the true distribution) and fake data (produced by the generator).  \n",
        "The discriminator in adversarial training:\n",
        "\n",
        "* Differentiates between real and generated data,\n",
        "* Drives the adversarial dynamics by providing a constantly evolving challenge for the generator,\n",
        "* Supplies gradient feedback that guides both its own improvement and that of the generator, and\n",
        "* Helps maintain training stability through various regularization techniques.  \n",
        "\n",
        "This symbiotic relationship ensures that as the discriminator refines its classification ability, the generator is compelled to produce increasingly realistic data, which is the essence of adversarial training in GANs."
      ],
      "metadata": {
        "id": "eXlDeP_m_Lx7"
      }
    },
    {
      "cell_type": "markdown",
      "source": [
        " **Q4:** How do metrics like IS and FID evaluate GAN performance?  \n",
        " **A4:**   \n",
        "\n",
        "\n",
        "*   IS focuses on ensuring that each generated image is clear(low entropy $\n",
        "p(y \\mid x)$) and that the overall collection of images is diverse(high entropy $p(y)$). A higher Inception Score is considered better, but it doesn't directly measure how similar the generated distribution is to the real data distribution.\n",
        "*   FID calculates the distance between the distributions of real and generated image features. A lower FID indicates that the generated images are both realistic and diverse, closely matching the statistics of the real data.  \n",
        "\n",
        "Together, these metrics provide complementary insights into GAN performance, helping researchers and practitioners gauge the success of their models in generating high-quality and varied images.\n",
        "\n"
      ],
      "metadata": {
        "id": "hU4Osv12ACY5"
      }
    },
    {
      "cell_type": "markdown",
      "source": [
        "# **2. Coding Assignment**"
      ],
      "metadata": {
        "id": "5AnFJNW3DH6W"
      }
    },
    {
      "cell_type": "markdown",
      "source": [
        "* Modify the generator to include additional convolutional layers.\n",
        "* Implement image saving after every 10 epochs.\n",
        "* Replace the MNIST dataset with CIFAR-10 and update the network for the new dimensions.\n"
      ],
      "metadata": {
        "id": "pGRfslZaDSn_"
      }
    },
    {
      "cell_type": "code",
      "source": [
        "import tensorflow as tf\n",
        "from tensorflow.keras import layers\n",
        "import matplotlib.pyplot as plt\n",
        "\n",
        "# -----------------------------\n",
        "# Define the Generator Model\n",
        "# -----------------------------\n",
        "def make_generator_model():\n",
        "    model = tf.keras.Sequential([\n",
        "        # Project the noise vector into a 7x7x256 tensor.\n",
        "        layers.Dense(7 * 7 * 256, use_bias=False, input_shape=(100,)),\n",
        "        layers.BatchNormalization(),\n",
        "        layers.LeakyReLU(),\n",
        "        layers.Reshape((7, 7, 256)),\n",
        "\n",
        "        # First transposed convolution block: keeps spatial dimensions at 7x7 while reducing depth.\n",
        "        layers.Conv2DTranspose(128, (5, 5), strides=(1, 1), padding='same', use_bias=False),\n",
        "        layers.BatchNormalization(),\n",
        "        layers.LeakyReLU(),\n",
        "\n",
        "        # --- Additional Convolutional Layers ---\n",
        "        # These layers use a 3x3 kernel with 'same' padding to maintain spatial dimensions.\n",
        "        layers.Conv2D(128, (3, 3), padding='same', use_bias=False),\n",
        "        layers.BatchNormalization(),\n",
        "        layers.LeakyReLU(),\n",
        "\n",
        "        layers.Conv2D(128, (3, 3), padding='same', use_bias=False),\n",
        "        layers.BatchNormalization(),\n",
        "        layers.LeakyReLU(),\n",
        "\n",
        "        # Second transposed convolution block: upsampling from 7x7 to 14x14.\n",
        "        layers.Conv2DTranspose(64, (5, 5), strides=(2, 2), padding='same', use_bias=False),\n",
        "        layers.BatchNormalization(),\n",
        "        layers.LeakyReLU(),\n",
        "\n",
        "        # Final transposed convolution block: upsampling from 14x14 to 28x28.\n",
        "        layers.Conv2DTranspose(1, (5, 5), strides=(2, 2), padding='same', use_bias=False, activation='tanh')\n",
        "    ])\n",
        "    return model\n",
        "\n",
        "# -----------------------------\n",
        "# Define the Discriminator Model\n",
        "# -----------------------------\n",
        "def make_discriminator_model():\n",
        "    model = tf.keras.Sequential([\n",
        "        layers.Conv2D(64, (5, 5), strides=(2, 2), padding='same', input_shape=[28, 28, 1]),\n",
        "        layers.LeakyReLU(),\n",
        "        layers.Dropout(0.3),\n",
        "        layers.Conv2D(128, (5, 5), strides=(2, 2), padding='same'),\n",
        "        layers.LeakyReLU(),\n",
        "        layers.Dropout(0.3),\n",
        "        layers.Flatten(),\n",
        "        layers.Dense(1)\n",
        "    ])\n",
        "    return model\n",
        "\n",
        "# -----------------------------\n",
        "# Loss Functions and Optimizers\n",
        "# -----------------------------\n",
        "cross_entropy = tf.keras.losses.BinaryCrossentropy(from_logits=True)\n",
        "\n",
        "def generator_loss(fake_output):\n",
        "    return cross_entropy(tf.ones_like(fake_output), fake_output)\n",
        "\n",
        "def discriminator_loss(real_output, fake_output):\n",
        "    real_loss = cross_entropy(tf.ones_like(real_output), real_output)\n",
        "    fake_loss = cross_entropy(tf.zeros_like(fake_output), fake_output)\n",
        "    return real_loss + fake_loss\n",
        "\n",
        "# Create the models\n",
        "generator = make_generator_model()\n",
        "discriminator = make_discriminator_model()\n",
        "\n",
        "# Optimizers\n",
        "generator_optimizer = tf.keras.optimizers.Adam(1e-4)\n",
        "discriminator_optimizer = tf.keras.optimizers.Adam(1e-4)\n",
        "\n",
        "# -----------------------------\n",
        "# Training Step Function\n",
        "# -----------------------------\n",
        "@tf.function\n",
        "def train_step(images):\n",
        "    noise = tf.random.normal([tf.shape(images)[0], 100])\n",
        "    with tf.GradientTape() as gen_tape, tf.GradientTape() as disc_tape:\n",
        "        generated_images = generator(noise, training=True)\n",
        "        real_output = discriminator(images, training=True)\n",
        "        fake_output = discriminator(generated_images, training=True)\n",
        "        gen_loss = generator_loss(fake_output)\n",
        "        disc_loss = discriminator_loss(real_output, fake_output)\n",
        "    gradients_of_generator = gen_tape.gradient(gen_loss, generator.trainable_variables)\n",
        "    gradients_of_discriminator = disc_tape.gradient(disc_loss, discriminator.trainable_variables)\n",
        "    generator_optimizer.apply_gradients(zip(gradients_of_generator, generator.trainable_variables))\n",
        "    discriminator_optimizer.apply_gradients(zip(gradients_of_discriminator, discriminator.trainable_variables))\n",
        "\n",
        "# -----------------------------\n",
        "# Function to Generate and Save One Image\n",
        "# -----------------------------\n",
        "def generate_and_save_image(model, epoch, test_input):\n",
        "    predictions = model(test_input, training=False)\n",
        "    image = predictions[0]  # Use the first image from the generated batch\n",
        "    # Convert pixel values from [-1, 1] to [0, 255]\n",
        "    image = ((image + 1) * 127.5).numpy().astype('uint8')\n",
        "\n",
        "    plt.figure(figsize=(4, 4))\n",
        "    plt.imshow(image[:, :, 0], cmap='gray')\n",
        "    plt.axis('off')\n",
        "    plt.title(\"Epoch: {}\".format(epoch))\n",
        "\n",
        "    filename = 'image_at_epoch_{:04d}.png'.format(epoch)\n",
        "    plt.savefig(filename)\n",
        "    plt.show()\n",
        "    plt.close()\n",
        "\n",
        "# -----------------------------\n",
        "# Training Loop (Processing 100 Batches per Epoch for debugging only)\n",
        "# -----------------------------\n",
        "def train(dataset, epochs):\n",
        "    seed = tf.random.normal([1, 100])  # single image seed\n",
        "    for epoch in range(epochs):\n",
        "        # batch_count = 0\n",
        "        for image_batch in dataset:\n",
        "            train_step(image_batch)\n",
        "            # batch_count += 1\n",
        "            # if batch_count >= 100:  # Only process 100 batches per epoch\n",
        "            #     break\n",
        "\n",
        "        # Save and display the generated image every 10 epochs\n",
        "        if (epoch + 1) % 10 == 0:\n",
        "            generate_and_save_image(generator, epoch + 1, seed)\n",
        "\n",
        "# -----------------------------\n",
        "# Prepare the MNIST Dataset\n",
        "# -----------------------------\n",
        "(train_images, _), (_, _) = tf.keras.datasets.mnist.load_data()\n",
        "train_images = train_images.reshape(-1, 28, 28, 1).astype('float32')\n",
        "train_images = (train_images - 127.5) / 127.5  # Normalize to [-1, 1]\n",
        "BUFFER_SIZE = 60000\n",
        "BATCH_SIZE = 256\n",
        "train_dataset = tf.data.Dataset.from_tensor_slices(train_images) \\\n",
        "    .shuffle(BUFFER_SIZE) \\\n",
        "    .batch(BATCH_SIZE)\n",
        "\n",
        "# -----------------------------\n",
        "# Run the Training Loop\n",
        "# -----------------------------\n",
        "train(train_dataset, epochs=50)\n"
      ],
      "metadata": {
        "colab": {
          "base_uri": "https://localhost:8080/",
          "height": 1000
        },
        "id": "EB133kUbGoO3",
        "outputId": "0e10fbc2-538a-4731-d24e-fa75c05cbb9a"
      },
      "execution_count": null,
      "outputs": [
        {
          "output_type": "display_data",
          "data": {
            "text/plain": [
              "<Figure size 400x400 with 1 Axes>"
            ],
            "image/png": "[encoded data removed]"
          },
          "metadata": {}
        },
        {
          "output_type": "display_data",
          "data": {
            "text/plain": [
              "<Figure size 400x400 with 1 Axes>"
            ],
            "image/png": "[encoded data removed]"
          },
          "metadata": {}
        },
        {
          "output_type": "display_data",
          "data": {
            "text/plain": [
              "<Figure size 400x400 with 1 Axes>"
            ],
            "image/png": "[encoded data removed]"
          },
          "metadata": {}
        },
        {
          "output_type": "display_data",
          "data": {
            "text/plain": [
              "<Figure size 400x400 with 1 Axes>"
            ],
            "image/png": "[encoded data removed]"
          },
          "metadata": {}
        },
        {
          "output_type": "display_data",
          "data": {
            "text/plain": [
              "<Figure size 400x400 with 1 Axes>"
            ],
            "image/png": "[encoded data removed]"
          },
          "metadata": {}
        }
      ]
    },
    {
      "cell_type": "code",
      "execution_count": null,
      "metadata": {
        "colab": {
          "base_uri": "https://localhost:8080/",
          "height": 1000
        },
        "id": "_IIfDeZ4D1t6",
        "outputId": "a08133a1-f052-4141-9623-1b6256b7018c"
      },
      "outputs": [
        {
          "output_type": "stream",
          "name": "stdout",
          "text": [
            "Downloading data from https://www.cs.toronto.edu/~kriz/cifar-10-python.tar.gz\n",
            "\u001b[1m170498071/170498071\u001b[0m \u001b[32m━━━━━━━━━━━━━━━━━━━━\u001b[0m\u001b[37m\u001b[0m \u001b[1m2s\u001b[0m 0us/step\n"
          ]
        },
        {
          "output_type": "display_data",
          "data": {
            "text/plain": [
              "<Figure size 400x400 with 1 Axes>"
            ],
            "image/png": "[encoded data removed]"
          },
          "metadata": {}
        },
        {
          "output_type": "display_data",
          "data": {
            "text/plain": [
              "<Figure size 400x400 with 1 Axes>"
            ],
            "image/png": "[encoded data removed]"
          },
          "metadata": {}
        },
        {
          "output_type": "display_data",
          "data": {
            "text/plain": [
              "<Figure size 400x400 with 1 Axes>"
            ],
            "image/png": "[encoded data removed]"
          },
          "metadata": {}
        },
        {
          "output_type": "display_data",
          "data": {
            "text/plain": [
              "<Figure size 400x400 with 1 Axes>"
            ],
            "image/png": "[encoded data removed]"
          },
          "metadata": {}
        },
        {
          "output_type": "display_data",
          "data": {
            "text/plain": [
              "<Figure size 400x400 with 1 Axes>"
            ],
            "image/png": "[encoded data removed]"
          },
          "metadata": {}
        }
      ],
      "source": [
        "import tensorflow as tf\n",
        "from tensorflow.keras import layers\n",
        "import matplotlib.pyplot as plt\n",
        "\n",
        "# -----------------------------\n",
        "# Define the Generator Model for CIFAR-10\n",
        "# -----------------------------\n",
        "def make_generator_model():\n",
        "    model = tf.keras.Sequential([\n",
        "        # Project the noise vector into an 8x8x256 tensor.\n",
        "        layers.Dense(8 * 8 * 256, use_bias=False, input_shape=(100,)),\n",
        "        layers.BatchNormalization(),\n",
        "        layers.LeakyReLU(),\n",
        "        layers.Reshape((8, 8, 256)),\n",
        "\n",
        "        # First transposed convolution block: keeps spatial dimensions at 8x8 while reducing depth.\n",
        "        layers.Conv2DTranspose(128, (5, 5), strides=(1, 1), padding='same', use_bias=False),\n",
        "        layers.BatchNormalization(),\n",
        "        layers.LeakyReLU(),\n",
        "\n",
        "        # --- Additional Convolutional Layers ---\n",
        "        # These layers use a 3x3 kernel with 'same' padding to maintain spatial dimensions.\n",
        "        layers.Conv2D(128, (3, 3), padding='same', use_bias=False),\n",
        "        layers.BatchNormalization(),\n",
        "        layers.LeakyReLU(),\n",
        "\n",
        "        layers.Conv2D(128, (3, 3), padding='same', use_bias=False),\n",
        "        layers.BatchNormalization(),\n",
        "        layers.LeakyReLU(),\n",
        "\n",
        "        # Second transposed convolution block: upsampling from 8x8 to 16x16.\n",
        "        layers.Conv2DTranspose(64, (5, 5), strides=(2, 2), padding='same', use_bias=False),\n",
        "        layers.BatchNormalization(),\n",
        "        layers.LeakyReLU(),\n",
        "\n",
        "        # Final transposed convolution block: upsampling from 16x16 to 32x32.\n",
        "        layers.Conv2DTranspose(3, (5, 5), strides=(2, 2), padding='same', use_bias=False, activation='tanh')\n",
        "    ])\n",
        "    return model\n",
        "\n",
        "# -----------------------------\n",
        "# Define the Discriminator Model for CIFAR-10\n",
        "# -----------------------------\n",
        "def make_discriminator_model():\n",
        "    model = tf.keras.Sequential([\n",
        "        # Update the input shape to 32x32x3 for CIFAR-10 images.\n",
        "        layers.Conv2D(64, (5, 5), strides=(2, 2), padding='same', input_shape=[32, 32, 3]),\n",
        "        layers.LeakyReLU(),\n",
        "        layers.Dropout(0.3),\n",
        "        layers.Conv2D(128, (5, 5), strides=(2, 2), padding='same'),\n",
        "        layers.LeakyReLU(),\n",
        "        layers.Dropout(0.3),\n",
        "        layers.Flatten(),\n",
        "        layers.Dense(1)\n",
        "    ])\n",
        "    return model\n",
        "\n",
        "# -----------------------------\n",
        "# Loss Functions and Optimizers\n",
        "# -----------------------------\n",
        "cross_entropy = tf.keras.losses.BinaryCrossentropy(from_logits=True)\n",
        "\n",
        "def generator_loss(fake_output):\n",
        "    return cross_entropy(tf.ones_like(fake_output), fake_output)\n",
        "\n",
        "def discriminator_loss(real_output, fake_output):\n",
        "    real_loss = cross_entropy(tf.ones_like(real_output), real_output)\n",
        "    fake_loss = cross_entropy(tf.zeros_like(fake_output), fake_output)\n",
        "    return real_loss + fake_loss\n",
        "\n",
        "# Create the models\n",
        "generator = make_generator_model()\n",
        "discriminator = make_discriminator_model()\n",
        "\n",
        "# Optimizers\n",
        "generator_optimizer = tf.keras.optimizers.Adam(1e-4)\n",
        "discriminator_optimizer = tf.keras.optimizers.Adam(1e-4)\n",
        "\n",
        "# -----------------------------\n",
        "# Training Step Function\n",
        "# -----------------------------\n",
        "BATCH_SIZE = 256\n",
        "\n",
        "@tf.function\n",
        "def train_step(images):\n",
        "    noise = tf.random.normal([tf.shape(images)[0], 100])\n",
        "    with tf.GradientTape() as gen_tape, tf.GradientTape() as disc_tape:\n",
        "        generated_images = generator(noise, training=True)\n",
        "        real_output = discriminator(images, training=True)\n",
        "        fake_output = discriminator(generated_images, training=True)\n",
        "        gen_loss = generator_loss(fake_output)\n",
        "        disc_loss = discriminator_loss(real_output, fake_output)\n",
        "    gradients_of_generator = gen_tape.gradient(gen_loss, generator.trainable_variables)\n",
        "    gradients_of_discriminator = disc_tape.gradient(disc_loss, discriminator.trainable_variables)\n",
        "    generator_optimizer.apply_gradients(zip(gradients_of_generator, generator.trainable_variables))\n",
        "    discriminator_optimizer.apply_gradients(zip(gradients_of_discriminator, discriminator.trainable_variables))\n",
        "\n",
        "# -----------------------------\n",
        "# Function to Generate and Save One Image\n",
        "# -----------------------------\n",
        "def generate_and_save_image(model, epoch, test_input):\n",
        "    # Generate images from the test input and use only the first image.\n",
        "    predictions = model(test_input, training=False)\n",
        "    image = predictions[0]\n",
        "\n",
        "    # Convert pixel values from [-1, 1] to [0, 255]\n",
        "    image = ((image + 1) * 127.5).numpy().astype('uint8')\n",
        "\n",
        "    plt.figure(figsize=(4, 4))\n",
        "    plt.imshow(image)  # For RGB images, plt.imshow expects shape (32,32,3)\n",
        "    plt.axis('off')\n",
        "    plt.title(\"Epoch: {}\".format(epoch))\n",
        "    filename = 'image_at_epoch_{:04d}.png'.format(epoch)\n",
        "    plt.savefig(filename)\n",
        "    plt.show()\n",
        "    plt.close()\n",
        "\n",
        "# -----------------------------\n",
        "# Training Loop\n",
        "# -----------------------------\n",
        "def train(dataset, epochs):\n",
        "    # Fixed seed for generating images (so progress can be tracked)\n",
        "    seed = tf.random.normal([1, 100])  # single image seed\n",
        "    for epoch in range(epochs):\n",
        "        for image_batch in dataset:\n",
        "            train_step(image_batch)\n",
        "\n",
        "        # Save and display the generated image every 10 epochs\n",
        "        if (epoch + 1) % 10 == 0:\n",
        "            generate_and_save_image(generator, epoch + 1, seed)\n",
        "\n",
        "# -----------------------------\n",
        "# Prepare the CIFAR-10 Dataset\n",
        "# -----------------------------\n",
        "# Load CIFAR-10 data; CIFAR-10 has 50,000 training images and 10,000 test images.\n",
        "(train_images, _), (_, _) = tf.keras.datasets.cifar10.load_data()\n",
        "train_images = train_images.astype('float32')\n",
        "# Normalize pixel values to [-1, 1]\n",
        "train_images = (train_images - 127.5) / 127.5\n",
        "BUFFER_SIZE = 50000\n",
        "BATCH_SIZE = 256\n",
        "train_dataset = tf.data.Dataset.from_tensor_slices(train_images) \\\n",
        "    .shuffle(BUFFER_SIZE) \\\n",
        "    .batch(BATCH_SIZE)\n",
        "\n",
        "# -----------------------------\n",
        "# Run the Training Loop\n",
        "# -----------------------------\n",
        "train(train_dataset, epochs=50)\n"
      ]
    }
  ],
  "metadata": {
    "colab": {
      "provenance": [],
      "gpuType": "T4",
      "authorship_tag": "ABX9TyNoaEIXg3Ud/MEhBhTDV5/E",
      "include_colab_link": true
    },
    "kernelspec": {
      "display_name": "Python 3",
      "name": "python3"
    },
    "language_info": {
      "name": "python"
    },
    "accelerator": "GPU"
  },
  "nbformat": 4,
  "nbformat_minor": 0
}